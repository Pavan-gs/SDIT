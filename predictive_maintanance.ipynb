{
 "cells": [
  {
   "cell_type": "markdown",
   "metadata": {
    "papermill": {
     "duration": 0.01236,
     "end_time": "2022-12-06T20:06:37.959139",
     "exception": false,
     "start_time": "2022-12-06T20:06:37.946779",
     "status": "completed"
    },
    "tags": []
   },
   "source": [
    "![](https://j.gifs.com/76kDrQ.gif)"
   ]
  },
  {
   "cell_type": "code",
   "execution_count": 1,
   "metadata": {
    "execution": {
     "iopub.execute_input": "2022-12-06T20:06:37.988236Z",
     "iopub.status.busy": "2022-12-06T20:06:37.987411Z",
     "iopub.status.idle": "2022-12-06T20:06:39.102806Z",
     "shell.execute_reply": "2022-12-06T20:06:39.101399Z"
    },
    "papermill": {
     "duration": 1.133069,
     "end_time": "2022-12-06T20:06:39.106172",
     "exception": false,
     "start_time": "2022-12-06T20:06:37.973103",
     "status": "completed"
    },
    "tags": []
   },
   "outputs": [],
   "source": [
    "import numpy as np \n",
    "import pandas as pd\n",
    "import seaborn as sns\n",
    "import matplotlib.pyplot as plt\n",
    "\n",
    "import warnings\n",
    "warnings.filterwarnings(\"ignore\")"
   ]
  },
  {
   "cell_type": "code",
   "execution_count": 2,
   "metadata": {},
   "outputs": [],
   "source": [
    "df = pd.read_csv(\"D://IAF/predictive_maintenance.csv\")"
   ]
  },
  {
   "cell_type": "code",
   "execution_count": 3,
   "metadata": {
    "execution": {
     "iopub.execute_input": "2022-12-06T20:06:39.171093Z",
     "iopub.status.busy": "2022-12-06T20:06:39.170394Z",
     "iopub.status.idle": "2022-12-06T20:06:39.175041Z",
     "shell.execute_reply": "2022-12-06T20:06:39.174062Z"
    },
    "papermill": {
     "duration": 0.020873,
     "end_time": "2022-12-06T20:06:39.177355",
     "exception": false,
     "start_time": "2022-12-06T20:06:39.156482",
     "status": "completed"
    },
    "tags": []
   },
   "outputs": [],
   "source": [
    "pd.set_option(\"display.max_columns\",None)\n",
    "pd.set_option(\"display.max_rows\",None)"
   ]
  },
  {
   "cell_type": "code",
   "execution_count": null,
   "metadata": {},
   "outputs": [],
   "source": [
    "df['Failure Type'].value_counts()"
   ]
  },
  {
   "cell_type": "code",
   "execution_count": 4,
   "metadata": {
    "execution": {
     "iopub.execute_input": "2022-12-06T20:06:39.367633Z",
     "iopub.status.busy": "2022-12-06T20:06:39.367153Z",
     "iopub.status.idle": "2022-12-06T20:06:39.375879Z",
     "shell.execute_reply": "2022-12-06T20:06:39.374667Z"
    },
    "papermill": {
     "duration": 0.025727,
     "end_time": "2022-12-06T20:06:39.378908",
     "exception": false,
     "start_time": "2022-12-06T20:06:39.353181",
     "status": "completed"
    },
    "tags": []
   },
   "outputs": [],
   "source": [
    "## Converting temperature in centigrate from Kelvin [1 K = -272.15 °C  ] \n",
    "\n",
    "df[\"Air temperature [K]\"] = df[\"Air temperature [K]\"] - 272.15\n",
    "df[\"Process temperature [K]\"] = df[\"Process temperature [K]\"] - 272.15\n",
    "\n",
    "# Renaming temperature in Centigrate(°C) from Kelvin (K)\n",
    "df.rename(columns={\"Air temperature [K]\" : \"Air temperature [°C]\",\"Process temperature [K]\" : \"Process temperature [°C]\"},inplace=True)"
   ]
  },
  {
   "cell_type": "code",
   "execution_count": 5,
   "metadata": {
    "execution": {
     "iopub.execute_input": "2022-12-06T20:06:39.406863Z",
     "iopub.status.busy": "2022-12-06T20:06:39.406438Z",
     "iopub.status.idle": "2022-12-06T20:06:39.429141Z",
     "shell.execute_reply": "2022-12-06T20:06:39.428227Z"
    },
    "papermill": {
     "duration": 0.039923,
     "end_time": "2022-12-06T20:06:39.431457",
     "exception": false,
     "start_time": "2022-12-06T20:06:39.391534",
     "status": "completed"
    },
    "tags": []
   },
   "outputs": [
    {
     "data": {
      "text/html": [
       "<div>\n",
       "<style scoped>\n",
       "    .dataframe tbody tr th:only-of-type {\n",
       "        vertical-align: middle;\n",
       "    }\n",
       "\n",
       "    .dataframe tbody tr th {\n",
       "        vertical-align: top;\n",
       "    }\n",
       "\n",
       "    .dataframe thead th {\n",
       "        text-align: right;\n",
       "    }\n",
       "</style>\n",
       "<table border=\"1\" class=\"dataframe\">\n",
       "  <thead>\n",
       "    <tr style=\"text-align: right;\">\n",
       "      <th></th>\n",
       "      <th>UDI</th>\n",
       "      <th>Product ID</th>\n",
       "      <th>Type</th>\n",
       "      <th>Air temperature [°C]</th>\n",
       "      <th>Process temperature [°C]</th>\n",
       "      <th>Rotational speed [rpm]</th>\n",
       "      <th>Torque [Nm]</th>\n",
       "      <th>Tool wear [min]</th>\n",
       "      <th>Target</th>\n",
       "      <th>Failure Type</th>\n",
       "      <th>Temperature difference [°C]</th>\n",
       "    </tr>\n",
       "  </thead>\n",
       "  <tbody>\n",
       "    <tr>\n",
       "      <th>2500</th>\n",
       "      <td>2501</td>\n",
       "      <td>L49680</td>\n",
       "      <td>L</td>\n",
       "      <td>26.95</td>\n",
       "      <td>36.75</td>\n",
       "      <td>1617</td>\n",
       "      <td>32.3</td>\n",
       "      <td>223</td>\n",
       "      <td>0</td>\n",
       "      <td>No Failure</td>\n",
       "      <td>9.8</td>\n",
       "    </tr>\n",
       "    <tr>\n",
       "      <th>4220</th>\n",
       "      <td>4221</td>\n",
       "      <td>M19080</td>\n",
       "      <td>M</td>\n",
       "      <td>29.75</td>\n",
       "      <td>38.45</td>\n",
       "      <td>1260</td>\n",
       "      <td>65.9</td>\n",
       "      <td>29</td>\n",
       "      <td>0</td>\n",
       "      <td>No Failure</td>\n",
       "      <td>8.7</td>\n",
       "    </tr>\n",
       "    <tr>\n",
       "      <th>7167</th>\n",
       "      <td>7168</td>\n",
       "      <td>L54347</td>\n",
       "      <td>L</td>\n",
       "      <td>28.15</td>\n",
       "      <td>38.15</td>\n",
       "      <td>1362</td>\n",
       "      <td>60.3</td>\n",
       "      <td>206</td>\n",
       "      <td>1</td>\n",
       "      <td>Overstrain Failure</td>\n",
       "      <td>10.0</td>\n",
       "    </tr>\n",
       "    <tr>\n",
       "      <th>171</th>\n",
       "      <td>172</td>\n",
       "      <td>L47351</td>\n",
       "      <td>L</td>\n",
       "      <td>26.05</td>\n",
       "      <td>35.95</td>\n",
       "      <td>1462</td>\n",
       "      <td>50.8</td>\n",
       "      <td>27</td>\n",
       "      <td>0</td>\n",
       "      <td>No Failure</td>\n",
       "      <td>9.9</td>\n",
       "    </tr>\n",
       "    <tr>\n",
       "      <th>3132</th>\n",
       "      <td>3133</td>\n",
       "      <td>L50312</td>\n",
       "      <td>L</td>\n",
       "      <td>27.95</td>\n",
       "      <td>37.35</td>\n",
       "      <td>1557</td>\n",
       "      <td>40.6</td>\n",
       "      <td>59</td>\n",
       "      <td>0</td>\n",
       "      <td>No Failure</td>\n",
       "      <td>9.4</td>\n",
       "    </tr>\n",
       "  </tbody>\n",
       "</table>\n",
       "</div>"
      ],
      "text/plain": [
       "       UDI Product ID Type  Air temperature [°C]  Process temperature [°C]  \\\n",
       "2500  2501     L49680    L                 26.95                     36.75   \n",
       "4220  4221     M19080    M                 29.75                     38.45   \n",
       "7167  7168     L54347    L                 28.15                     38.15   \n",
       "171    172     L47351    L                 26.05                     35.95   \n",
       "3132  3133     L50312    L                 27.95                     37.35   \n",
       "\n",
       "      Rotational speed [rpm]  Torque [Nm]  Tool wear [min]  Target  \\\n",
       "2500                    1617         32.3              223       0   \n",
       "4220                    1260         65.9               29       0   \n",
       "7167                    1362         60.3              206       1   \n",
       "171                     1462         50.8               27       0   \n",
       "3132                    1557         40.6               59       0   \n",
       "\n",
       "            Failure Type  Temperature difference [°C]  \n",
       "2500          No Failure                          9.8  \n",
       "4220          No Failure                          8.7  \n",
       "7167  Overstrain Failure                         10.0  \n",
       "171           No Failure                          9.9  \n",
       "3132          No Failure                          9.4  "
      ]
     },
     "execution_count": 5,
     "metadata": {},
     "output_type": "execute_result"
    }
   ],
   "source": [
    "df[\"Temperature difference [°C]\"] = df[\"Process temperature [°C]\"] - df[\"Air temperature [°C]\"]\n",
    "df.sample(5)"
   ]
  },
  {
   "cell_type": "code",
   "execution_count": null,
   "metadata": {
    "execution": {
     "iopub.execute_input": "2022-12-06T20:06:39.459521Z",
     "iopub.status.busy": "2022-12-06T20:06:39.458856Z",
     "iopub.status.idle": "2022-12-06T20:06:39.467679Z",
     "shell.execute_reply": "2022-12-06T20:06:39.466338Z"
    },
    "papermill": {
     "duration": 0.025875,
     "end_time": "2022-12-06T20:06:39.470333",
     "exception": false,
     "start_time": "2022-12-06T20:06:39.444458",
     "status": "completed"
    },
    "tags": []
   },
   "outputs": [],
   "source": [
    "display(df.shape)\n",
    "display(df.size)"
   ]
  },
  {
   "cell_type": "code",
   "execution_count": null,
   "metadata": {
    "execution": {
     "iopub.execute_input": "2022-12-06T20:06:39.500767Z",
     "iopub.status.busy": "2022-12-06T20:06:39.499884Z",
     "iopub.status.idle": "2022-12-06T20:06:39.523316Z",
     "shell.execute_reply": "2022-12-06T20:06:39.521344Z"
    },
    "papermill": {
     "duration": 0.041689,
     "end_time": "2022-12-06T20:06:39.526277",
     "exception": false,
     "start_time": "2022-12-06T20:06:39.484588",
     "status": "completed"
    },
    "tags": []
   },
   "outputs": [],
   "source": [
    "df.info() "
   ]
  },
  {
   "cell_type": "code",
   "execution_count": 6,
   "metadata": {
    "execution": {
     "iopub.execute_input": "2022-12-06T20:06:39.554936Z",
     "iopub.status.busy": "2022-12-06T20:06:39.554450Z",
     "iopub.status.idle": "2022-12-06T20:06:39.604032Z",
     "shell.execute_reply": "2022-12-06T20:06:39.602884Z"
    },
    "papermill": {
     "duration": 0.066844,
     "end_time": "2022-12-06T20:06:39.606758",
     "exception": false,
     "start_time": "2022-12-06T20:06:39.539914",
     "status": "completed"
    },
    "tags": []
   },
   "outputs": [
    {
     "data": {
      "text/html": [
       "<style  type=\"text/css\" >\n",
       "#T_e60a505a_7dbf_11ed_a186_7470fd1a9d2erow0_col0,#T_e60a505a_7dbf_11ed_a186_7470fd1a9d2erow0_col1,#T_e60a505a_7dbf_11ed_a186_7470fd1a9d2erow0_col2,#T_e60a505a_7dbf_11ed_a186_7470fd1a9d2erow0_col3,#T_e60a505a_7dbf_11ed_a186_7470fd1a9d2erow0_col4,#T_e60a505a_7dbf_11ed_a186_7470fd1a9d2erow0_col5,#T_e60a505a_7dbf_11ed_a186_7470fd1a9d2erow0_col6,#T_e60a505a_7dbf_11ed_a186_7470fd1a9d2erow0_col7,#T_e60a505a_7dbf_11ed_a186_7470fd1a9d2erow7_col0{\n",
       "            background-color:  #fcfdbf;\n",
       "            color:  #000000;\n",
       "        }#T_e60a505a_7dbf_11ed_a186_7470fd1a9d2erow1_col0,#T_e60a505a_7dbf_11ed_a186_7470fd1a9d2erow5_col0{\n",
       "            background-color:  #b73779;\n",
       "            color:  #f1f1f1;\n",
       "        }#T_e60a505a_7dbf_11ed_a186_7470fd1a9d2erow1_col1,#T_e60a505a_7dbf_11ed_a186_7470fd1a9d2erow1_col2,#T_e60a505a_7dbf_11ed_a186_7470fd1a9d2erow1_col4,#T_e60a505a_7dbf_11ed_a186_7470fd1a9d2erow1_col6,#T_e60a505a_7dbf_11ed_a186_7470fd1a9d2erow1_col7,#T_e60a505a_7dbf_11ed_a186_7470fd1a9d2erow2_col1,#T_e60a505a_7dbf_11ed_a186_7470fd1a9d2erow2_col2,#T_e60a505a_7dbf_11ed_a186_7470fd1a9d2erow2_col3,#T_e60a505a_7dbf_11ed_a186_7470fd1a9d2erow2_col4,#T_e60a505a_7dbf_11ed_a186_7470fd1a9d2erow2_col6,#T_e60a505a_7dbf_11ed_a186_7470fd1a9d2erow2_col7,#T_e60a505a_7dbf_11ed_a186_7470fd1a9d2erow3_col0,#T_e60a505a_7dbf_11ed_a186_7470fd1a9d2erow3_col1,#T_e60a505a_7dbf_11ed_a186_7470fd1a9d2erow3_col2,#T_e60a505a_7dbf_11ed_a186_7470fd1a9d2erow3_col4,#T_e60a505a_7dbf_11ed_a186_7470fd1a9d2erow3_col5,#T_e60a505a_7dbf_11ed_a186_7470fd1a9d2erow3_col6,#T_e60a505a_7dbf_11ed_a186_7470fd1a9d2erow3_col7,#T_e60a505a_7dbf_11ed_a186_7470fd1a9d2erow4_col1,#T_e60a505a_7dbf_11ed_a186_7470fd1a9d2erow4_col2,#T_e60a505a_7dbf_11ed_a186_7470fd1a9d2erow4_col4,#T_e60a505a_7dbf_11ed_a186_7470fd1a9d2erow4_col6,#T_e60a505a_7dbf_11ed_a186_7470fd1a9d2erow4_col7,#T_e60a505a_7dbf_11ed_a186_7470fd1a9d2erow5_col1,#T_e60a505a_7dbf_11ed_a186_7470fd1a9d2erow5_col2,#T_e60a505a_7dbf_11ed_a186_7470fd1a9d2erow5_col4,#T_e60a505a_7dbf_11ed_a186_7470fd1a9d2erow5_col6,#T_e60a505a_7dbf_11ed_a186_7470fd1a9d2erow5_col7,#T_e60a505a_7dbf_11ed_a186_7470fd1a9d2erow6_col1,#T_e60a505a_7dbf_11ed_a186_7470fd1a9d2erow6_col2,#T_e60a505a_7dbf_11ed_a186_7470fd1a9d2erow6_col6,#T_e60a505a_7dbf_11ed_a186_7470fd1a9d2erow6_col7,#T_e60a505a_7dbf_11ed_a186_7470fd1a9d2erow7_col1,#T_e60a505a_7dbf_11ed_a186_7470fd1a9d2erow7_col6,#T_e60a505a_7dbf_11ed_a186_7470fd1a9d2erow7_col7{\n",
       "            background-color:  #000004;\n",
       "            color:  #f1f1f1;\n",
       "        }#T_e60a505a_7dbf_11ed_a186_7470fd1a9d2erow1_col3{\n",
       "            background-color:  #21114e;\n",
       "            color:  #f1f1f1;\n",
       "        }#T_e60a505a_7dbf_11ed_a186_7470fd1a9d2erow1_col5,#T_e60a505a_7dbf_11ed_a186_7470fd1a9d2erow5_col5{\n",
       "            background-color:  #010106;\n",
       "            color:  #f1f1f1;\n",
       "        }#T_e60a505a_7dbf_11ed_a186_7470fd1a9d2erow2_col0{\n",
       "            background-color:  #5f187f;\n",
       "            color:  #f1f1f1;\n",
       "        }#T_e60a505a_7dbf_11ed_a186_7470fd1a9d2erow2_col5,#T_e60a505a_7dbf_11ed_a186_7470fd1a9d2erow4_col5,#T_e60a505a_7dbf_11ed_a186_7470fd1a9d2erow6_col4,#T_e60a505a_7dbf_11ed_a186_7470fd1a9d2erow7_col2,#T_e60a505a_7dbf_11ed_a186_7470fd1a9d2erow7_col4{\n",
       "            background-color:  #010005;\n",
       "            color:  #f1f1f1;\n",
       "        }#T_e60a505a_7dbf_11ed_a186_7470fd1a9d2erow3_col3{\n",
       "            background-color:  #140e36;\n",
       "            color:  #f1f1f1;\n",
       "        }#T_e60a505a_7dbf_11ed_a186_7470fd1a9d2erow4_col0{\n",
       "            background-color:  #51127c;\n",
       "            color:  #f1f1f1;\n",
       "        }#T_e60a505a_7dbf_11ed_a186_7470fd1a9d2erow4_col3{\n",
       "            background-color:  #1d1147;\n",
       "            color:  #f1f1f1;\n",
       "        }#T_e60a505a_7dbf_11ed_a186_7470fd1a9d2erow5_col3{\n",
       "            background-color:  #20114b;\n",
       "            color:  #f1f1f1;\n",
       "        }#T_e60a505a_7dbf_11ed_a186_7470fd1a9d2erow6_col0{\n",
       "            background-color:  #fc8961;\n",
       "            color:  #000000;\n",
       "        }#T_e60a505a_7dbf_11ed_a186_7470fd1a9d2erow6_col3{\n",
       "            background-color:  #241253;\n",
       "            color:  #f1f1f1;\n",
       "        }#T_e60a505a_7dbf_11ed_a186_7470fd1a9d2erow6_col5{\n",
       "            background-color:  #020109;\n",
       "            color:  #f1f1f1;\n",
       "        }#T_e60a505a_7dbf_11ed_a186_7470fd1a9d2erow7_col3{\n",
       "            background-color:  #5a167e;\n",
       "            color:  #f1f1f1;\n",
       "        }#T_e60a505a_7dbf_11ed_a186_7470fd1a9d2erow7_col5{\n",
       "            background-color:  #02020d;\n",
       "            color:  #f1f1f1;\n",
       "        }</style><table id=\"T_e60a505a_7dbf_11ed_a186_7470fd1a9d2e\" ><thead>    <tr>        <th class=\"blank level0\" ></th>        <th class=\"col_heading level0 col0\" >UDI</th>        <th class=\"col_heading level0 col1\" >Air temperature [°C]</th>        <th class=\"col_heading level0 col2\" >Process temperature [°C]</th>        <th class=\"col_heading level0 col3\" >Rotational speed [rpm]</th>        <th class=\"col_heading level0 col4\" >Torque [Nm]</th>        <th class=\"col_heading level0 col5\" >Tool wear [min]</th>        <th class=\"col_heading level0 col6\" >Target</th>        <th class=\"col_heading level0 col7\" >Temperature difference [°C]</th>    </tr></thead><tbody>\n",
       "                <tr>\n",
       "                        <th id=\"T_e60a505a_7dbf_11ed_a186_7470fd1a9d2elevel0_row0\" class=\"row_heading level0 row0\" >count</th>\n",
       "                        <td id=\"T_e60a505a_7dbf_11ed_a186_7470fd1a9d2erow0_col0\" class=\"data row0 col0\" >10000.000000</td>\n",
       "                        <td id=\"T_e60a505a_7dbf_11ed_a186_7470fd1a9d2erow0_col1\" class=\"data row0 col1\" >10000.000000</td>\n",
       "                        <td id=\"T_e60a505a_7dbf_11ed_a186_7470fd1a9d2erow0_col2\" class=\"data row0 col2\" >10000.000000</td>\n",
       "                        <td id=\"T_e60a505a_7dbf_11ed_a186_7470fd1a9d2erow0_col3\" class=\"data row0 col3\" >10000.000000</td>\n",
       "                        <td id=\"T_e60a505a_7dbf_11ed_a186_7470fd1a9d2erow0_col4\" class=\"data row0 col4\" >10000.000000</td>\n",
       "                        <td id=\"T_e60a505a_7dbf_11ed_a186_7470fd1a9d2erow0_col5\" class=\"data row0 col5\" >10000.000000</td>\n",
       "                        <td id=\"T_e60a505a_7dbf_11ed_a186_7470fd1a9d2erow0_col6\" class=\"data row0 col6\" >10000.000000</td>\n",
       "                        <td id=\"T_e60a505a_7dbf_11ed_a186_7470fd1a9d2erow0_col7\" class=\"data row0 col7\" >10000.000000</td>\n",
       "            </tr>\n",
       "            <tr>\n",
       "                        <th id=\"T_e60a505a_7dbf_11ed_a186_7470fd1a9d2elevel0_row1\" class=\"row_heading level0 row1\" >mean</th>\n",
       "                        <td id=\"T_e60a505a_7dbf_11ed_a186_7470fd1a9d2erow1_col0\" class=\"data row1 col0\" >5000.500000</td>\n",
       "                        <td id=\"T_e60a505a_7dbf_11ed_a186_7470fd1a9d2erow1_col1\" class=\"data row1 col1\" >27.854930</td>\n",
       "                        <td id=\"T_e60a505a_7dbf_11ed_a186_7470fd1a9d2erow1_col2\" class=\"data row1 col2\" >37.855560</td>\n",
       "                        <td id=\"T_e60a505a_7dbf_11ed_a186_7470fd1a9d2erow1_col3\" class=\"data row1 col3\" >1538.776100</td>\n",
       "                        <td id=\"T_e60a505a_7dbf_11ed_a186_7470fd1a9d2erow1_col4\" class=\"data row1 col4\" >39.986910</td>\n",
       "                        <td id=\"T_e60a505a_7dbf_11ed_a186_7470fd1a9d2erow1_col5\" class=\"data row1 col5\" >107.951000</td>\n",
       "                        <td id=\"T_e60a505a_7dbf_11ed_a186_7470fd1a9d2erow1_col6\" class=\"data row1 col6\" >0.033900</td>\n",
       "                        <td id=\"T_e60a505a_7dbf_11ed_a186_7470fd1a9d2erow1_col7\" class=\"data row1 col7\" >10.000630</td>\n",
       "            </tr>\n",
       "            <tr>\n",
       "                        <th id=\"T_e60a505a_7dbf_11ed_a186_7470fd1a9d2elevel0_row2\" class=\"row_heading level0 row2\" >std</th>\n",
       "                        <td id=\"T_e60a505a_7dbf_11ed_a186_7470fd1a9d2erow2_col0\" class=\"data row2 col0\" >2886.895680</td>\n",
       "                        <td id=\"T_e60a505a_7dbf_11ed_a186_7470fd1a9d2erow2_col1\" class=\"data row2 col1\" >2.000259</td>\n",
       "                        <td id=\"T_e60a505a_7dbf_11ed_a186_7470fd1a9d2erow2_col2\" class=\"data row2 col2\" >1.483734</td>\n",
       "                        <td id=\"T_e60a505a_7dbf_11ed_a186_7470fd1a9d2erow2_col3\" class=\"data row2 col3\" >179.284096</td>\n",
       "                        <td id=\"T_e60a505a_7dbf_11ed_a186_7470fd1a9d2erow2_col4\" class=\"data row2 col4\" >9.968934</td>\n",
       "                        <td id=\"T_e60a505a_7dbf_11ed_a186_7470fd1a9d2erow2_col5\" class=\"data row2 col5\" >63.654147</td>\n",
       "                        <td id=\"T_e60a505a_7dbf_11ed_a186_7470fd1a9d2erow2_col6\" class=\"data row2 col6\" >0.180981</td>\n",
       "                        <td id=\"T_e60a505a_7dbf_11ed_a186_7470fd1a9d2erow2_col7\" class=\"data row2 col7\" >1.001094</td>\n",
       "            </tr>\n",
       "            <tr>\n",
       "                        <th id=\"T_e60a505a_7dbf_11ed_a186_7470fd1a9d2elevel0_row3\" class=\"row_heading level0 row3\" >min</th>\n",
       "                        <td id=\"T_e60a505a_7dbf_11ed_a186_7470fd1a9d2erow3_col0\" class=\"data row3 col0\" >1.000000</td>\n",
       "                        <td id=\"T_e60a505a_7dbf_11ed_a186_7470fd1a9d2erow3_col1\" class=\"data row3 col1\" >23.150000</td>\n",
       "                        <td id=\"T_e60a505a_7dbf_11ed_a186_7470fd1a9d2erow3_col2\" class=\"data row3 col2\" >33.550000</td>\n",
       "                        <td id=\"T_e60a505a_7dbf_11ed_a186_7470fd1a9d2erow3_col3\" class=\"data row3 col3\" >1168.000000</td>\n",
       "                        <td id=\"T_e60a505a_7dbf_11ed_a186_7470fd1a9d2erow3_col4\" class=\"data row3 col4\" >3.800000</td>\n",
       "                        <td id=\"T_e60a505a_7dbf_11ed_a186_7470fd1a9d2erow3_col5\" class=\"data row3 col5\" >0.000000</td>\n",
       "                        <td id=\"T_e60a505a_7dbf_11ed_a186_7470fd1a9d2erow3_col6\" class=\"data row3 col6\" >0.000000</td>\n",
       "                        <td id=\"T_e60a505a_7dbf_11ed_a186_7470fd1a9d2erow3_col7\" class=\"data row3 col7\" >7.600000</td>\n",
       "            </tr>\n",
       "            <tr>\n",
       "                        <th id=\"T_e60a505a_7dbf_11ed_a186_7470fd1a9d2elevel0_row4\" class=\"row_heading level0 row4\" >25%</th>\n",
       "                        <td id=\"T_e60a505a_7dbf_11ed_a186_7470fd1a9d2erow4_col0\" class=\"data row4 col0\" >2500.750000</td>\n",
       "                        <td id=\"T_e60a505a_7dbf_11ed_a186_7470fd1a9d2erow4_col1\" class=\"data row4 col1\" >26.150000</td>\n",
       "                        <td id=\"T_e60a505a_7dbf_11ed_a186_7470fd1a9d2erow4_col2\" class=\"data row4 col2\" >36.650000</td>\n",
       "                        <td id=\"T_e60a505a_7dbf_11ed_a186_7470fd1a9d2erow4_col3\" class=\"data row4 col3\" >1423.000000</td>\n",
       "                        <td id=\"T_e60a505a_7dbf_11ed_a186_7470fd1a9d2erow4_col4\" class=\"data row4 col4\" >33.200000</td>\n",
       "                        <td id=\"T_e60a505a_7dbf_11ed_a186_7470fd1a9d2erow4_col5\" class=\"data row4 col5\" >53.000000</td>\n",
       "                        <td id=\"T_e60a505a_7dbf_11ed_a186_7470fd1a9d2erow4_col6\" class=\"data row4 col6\" >0.000000</td>\n",
       "                        <td id=\"T_e60a505a_7dbf_11ed_a186_7470fd1a9d2erow4_col7\" class=\"data row4 col7\" >9.300000</td>\n",
       "            </tr>\n",
       "            <tr>\n",
       "                        <th id=\"T_e60a505a_7dbf_11ed_a186_7470fd1a9d2elevel0_row5\" class=\"row_heading level0 row5\" >50%</th>\n",
       "                        <td id=\"T_e60a505a_7dbf_11ed_a186_7470fd1a9d2erow5_col0\" class=\"data row5 col0\" >5000.500000</td>\n",
       "                        <td id=\"T_e60a505a_7dbf_11ed_a186_7470fd1a9d2erow5_col1\" class=\"data row5 col1\" >27.950000</td>\n",
       "                        <td id=\"T_e60a505a_7dbf_11ed_a186_7470fd1a9d2erow5_col2\" class=\"data row5 col2\" >37.950000</td>\n",
       "                        <td id=\"T_e60a505a_7dbf_11ed_a186_7470fd1a9d2erow5_col3\" class=\"data row5 col3\" >1503.000000</td>\n",
       "                        <td id=\"T_e60a505a_7dbf_11ed_a186_7470fd1a9d2erow5_col4\" class=\"data row5 col4\" >40.100000</td>\n",
       "                        <td id=\"T_e60a505a_7dbf_11ed_a186_7470fd1a9d2erow5_col5\" class=\"data row5 col5\" >108.000000</td>\n",
       "                        <td id=\"T_e60a505a_7dbf_11ed_a186_7470fd1a9d2erow5_col6\" class=\"data row5 col6\" >0.000000</td>\n",
       "                        <td id=\"T_e60a505a_7dbf_11ed_a186_7470fd1a9d2erow5_col7\" class=\"data row5 col7\" >9.800000</td>\n",
       "            </tr>\n",
       "            <tr>\n",
       "                        <th id=\"T_e60a505a_7dbf_11ed_a186_7470fd1a9d2elevel0_row6\" class=\"row_heading level0 row6\" >75%</th>\n",
       "                        <td id=\"T_e60a505a_7dbf_11ed_a186_7470fd1a9d2erow6_col0\" class=\"data row6 col0\" >7500.250000</td>\n",
       "                        <td id=\"T_e60a505a_7dbf_11ed_a186_7470fd1a9d2erow6_col1\" class=\"data row6 col1\" >29.350000</td>\n",
       "                        <td id=\"T_e60a505a_7dbf_11ed_a186_7470fd1a9d2erow6_col2\" class=\"data row6 col2\" >38.950000</td>\n",
       "                        <td id=\"T_e60a505a_7dbf_11ed_a186_7470fd1a9d2erow6_col3\" class=\"data row6 col3\" >1612.000000</td>\n",
       "                        <td id=\"T_e60a505a_7dbf_11ed_a186_7470fd1a9d2erow6_col4\" class=\"data row6 col4\" >46.800000</td>\n",
       "                        <td id=\"T_e60a505a_7dbf_11ed_a186_7470fd1a9d2erow6_col5\" class=\"data row6 col5\" >162.000000</td>\n",
       "                        <td id=\"T_e60a505a_7dbf_11ed_a186_7470fd1a9d2erow6_col6\" class=\"data row6 col6\" >0.000000</td>\n",
       "                        <td id=\"T_e60a505a_7dbf_11ed_a186_7470fd1a9d2erow6_col7\" class=\"data row6 col7\" >11.000000</td>\n",
       "            </tr>\n",
       "            <tr>\n",
       "                        <th id=\"T_e60a505a_7dbf_11ed_a186_7470fd1a9d2elevel0_row7\" class=\"row_heading level0 row7\" >max</th>\n",
       "                        <td id=\"T_e60a505a_7dbf_11ed_a186_7470fd1a9d2erow7_col0\" class=\"data row7 col0\" >10000.000000</td>\n",
       "                        <td id=\"T_e60a505a_7dbf_11ed_a186_7470fd1a9d2erow7_col1\" class=\"data row7 col1\" >32.350000</td>\n",
       "                        <td id=\"T_e60a505a_7dbf_11ed_a186_7470fd1a9d2erow7_col2\" class=\"data row7 col2\" >41.650000</td>\n",
       "                        <td id=\"T_e60a505a_7dbf_11ed_a186_7470fd1a9d2erow7_col3\" class=\"data row7 col3\" >2886.000000</td>\n",
       "                        <td id=\"T_e60a505a_7dbf_11ed_a186_7470fd1a9d2erow7_col4\" class=\"data row7 col4\" >76.600000</td>\n",
       "                        <td id=\"T_e60a505a_7dbf_11ed_a186_7470fd1a9d2erow7_col5\" class=\"data row7 col5\" >253.000000</td>\n",
       "                        <td id=\"T_e60a505a_7dbf_11ed_a186_7470fd1a9d2erow7_col6\" class=\"data row7 col6\" >1.000000</td>\n",
       "                        <td id=\"T_e60a505a_7dbf_11ed_a186_7470fd1a9d2erow7_col7\" class=\"data row7 col7\" >12.100000</td>\n",
       "            </tr>\n",
       "    </tbody></table>"
      ],
      "text/plain": [
       "<pandas.io.formats.style.Styler at 0x1e0d870ccf8>"
      ]
     },
     "execution_count": 6,
     "metadata": {},
     "output_type": "execute_result"
    }
   ],
   "source": [
    "df.describe().style.background_gradient(cmap=\"magma\")"
   ]
  },
  {
   "cell_type": "code",
   "execution_count": null,
   "metadata": {
    "execution": {
     "iopub.execute_input": "2022-12-06T20:06:40.203569Z",
     "iopub.status.busy": "2022-12-06T20:06:40.203134Z",
     "iopub.status.idle": "2022-12-06T20:06:40.894381Z",
     "shell.execute_reply": "2022-12-06T20:06:40.893063Z"
    },
    "papermill": {
     "duration": 0.709671,
     "end_time": "2022-12-06T20:06:40.897407",
     "exception": false,
     "start_time": "2022-12-06T20:06:40.187736",
     "status": "completed"
    },
    "tags": []
   },
   "outputs": [],
   "source": [
    "sns.distplot(df[\"Air temperature [K]\"], kde=True, bins = 100);"
   ]
  },
  {
   "cell_type": "code",
   "execution_count": null,
   "metadata": {},
   "outputs": [],
   "source": [
    "df.columns"
   ]
  },
  {
   "cell_type": "code",
   "execution_count": null,
   "metadata": {
    "execution": {
     "iopub.execute_input": "2022-12-06T20:06:40.928585Z",
     "iopub.status.busy": "2022-12-06T20:06:40.928139Z",
     "iopub.status.idle": "2022-12-06T20:06:41.641466Z",
     "shell.execute_reply": "2022-12-06T20:06:41.639936Z"
    },
    "papermill": {
     "duration": 0.732122,
     "end_time": "2022-12-06T20:06:41.644322",
     "exception": false,
     "start_time": "2022-12-06T20:06:40.912200",
     "status": "completed"
    },
    "tags": []
   },
   "outputs": [],
   "source": [
    "sns.distplot(df[\"Process temperature [K]\"], kde=True, bins = 100)"
   ]
  },
  {
   "cell_type": "code",
   "execution_count": null,
   "metadata": {
    "execution": {
     "iopub.execute_input": "2022-12-06T20:06:41.677419Z",
     "iopub.status.busy": "2022-12-06T20:06:41.676978Z",
     "iopub.status.idle": "2022-12-06T20:06:42.350141Z",
     "shell.execute_reply": "2022-12-06T20:06:42.348682Z"
    },
    "papermill": {
     "duration": 0.692929,
     "end_time": "2022-12-06T20:06:42.352955",
     "exception": false,
     "start_time": "2022-12-06T20:06:41.660026",
     "status": "completed"
    },
    "tags": []
   },
   "outputs": [],
   "source": [
    "sns.distplot(df[\"Temperature difference [°C]\"], kde=True, bins = 100,color = \"blue\")"
   ]
  },
  {
   "cell_type": "code",
   "execution_count": 7,
   "metadata": {
    "execution": {
     "iopub.execute_input": "2022-12-06T20:06:42.388525Z",
     "iopub.status.busy": "2022-12-06T20:06:42.388057Z",
     "iopub.status.idle": "2022-12-06T20:06:42.400023Z",
     "shell.execute_reply": "2022-12-06T20:06:42.398765Z"
    },
    "papermill": {
     "duration": 0.033294,
     "end_time": "2022-12-06T20:06:42.403103",
     "exception": false,
     "start_time": "2022-12-06T20:06:42.369809",
     "status": "completed"
    },
    "tags": []
   },
   "outputs": [
    {
     "name": "stdout",
     "output_type": "stream",
     "text": [
      "L    6000\n",
      "M    2997\n",
      "H    1003\n",
      "Name: Type, dtype: int64\n",
      "********************************\n",
      "0    9661\n",
      "1     339\n",
      "Name: Target, dtype: int64\n",
      "********************************\n",
      "No Failure                  9652\n",
      "Heat Dissipation Failure     112\n",
      "Power Failure                 95\n",
      "Overstrain Failure            78\n",
      "Tool Wear Failure             45\n",
      "Random Failures               18\n",
      "Name: Failure Type, dtype: int64\n",
      "********************************\n"
     ]
    }
   ],
   "source": [
    "for col in df[['Type','Target','Failure Type']]:\n",
    "    print(df[col].value_counts()) \n",
    "    print(\"****\"*8)"
   ]
  },
  {
   "cell_type": "code",
   "execution_count": 8,
   "metadata": {
    "execution": {
     "iopub.execute_input": "2022-12-06T20:06:42.437868Z",
     "iopub.status.busy": "2022-12-06T20:06:42.437418Z",
     "iopub.status.idle": "2022-12-06T20:06:42.871689Z",
     "shell.execute_reply": "2022-12-06T20:06:42.870324Z"
    },
    "papermill": {
     "duration": 0.455,
     "end_time": "2022-12-06T20:06:42.874625",
     "exception": false,
     "start_time": "2022-12-06T20:06:42.419625",
     "status": "completed"
    },
    "tags": []
   },
   "outputs": [
    {
     "ename": "AttributeError",
     "evalue": "'AxesSubplot' object has no attribute 'bar_label'",
     "output_type": "error",
     "traceback": [
      "\u001b[1;31m---------------------------------------------------------------------------\u001b[0m",
      "\u001b[1;31mAttributeError\u001b[0m                            Traceback (most recent call last)",
      "\u001b[1;32m<ipython-input-8-48b3f4af2091>\u001b[0m in \u001b[0;36m<module>\u001b[1;34m\u001b[0m\n\u001b[0;32m      2\u001b[0m \u001b[0max\u001b[0m \u001b[1;33m=\u001b[0m \u001b[0mplt\u001b[0m\u001b[1;33m.\u001b[0m\u001b[0msubplot\u001b[0m\u001b[1;33m(\u001b[0m\u001b[1;36m1\u001b[0m\u001b[1;33m,\u001b[0m\u001b[1;36m2\u001b[0m\u001b[1;33m,\u001b[0m\u001b[1;36m1\u001b[0m\u001b[1;33m)\u001b[0m\u001b[1;33m\u001b[0m\u001b[0m\n\u001b[0;32m      3\u001b[0m \u001b[0max\u001b[0m \u001b[1;33m=\u001b[0m \u001b[0msns\u001b[0m\u001b[1;33m.\u001b[0m\u001b[0mcountplot\u001b[0m\u001b[1;33m(\u001b[0m\u001b[0mx\u001b[0m\u001b[1;33m=\u001b[0m\u001b[1;34m'Type'\u001b[0m\u001b[1;33m,\u001b[0m \u001b[0mdata\u001b[0m\u001b[1;33m=\u001b[0m\u001b[0mdf\u001b[0m\u001b[1;33m)\u001b[0m\u001b[1;33m\u001b[0m\u001b[0m\n\u001b[1;32m----> 4\u001b[1;33m \u001b[0max\u001b[0m\u001b[1;33m.\u001b[0m\u001b[0mbar_label\u001b[0m\u001b[1;33m(\u001b[0m\u001b[0max\u001b[0m\u001b[1;33m.\u001b[0m\u001b[0mcontainers\u001b[0m\u001b[1;33m[\u001b[0m\u001b[1;36m0\u001b[0m\u001b[1;33m]\u001b[0m\u001b[1;33m)\u001b[0m\u001b[1;33m\u001b[0m\u001b[0m\n\u001b[0m\u001b[0;32m      5\u001b[0m \u001b[0mplt\u001b[0m\u001b[1;33m.\u001b[0m\u001b[0mtitle\u001b[0m\u001b[1;33m(\u001b[0m\u001b[1;34m\"Type\"\u001b[0m\u001b[1;33m,\u001b[0m \u001b[0mfontsize\u001b[0m\u001b[1;33m=\u001b[0m\u001b[1;36m20\u001b[0m\u001b[1;33m,\u001b[0m\u001b[0mcolor\u001b[0m\u001b[1;33m=\u001b[0m\u001b[1;34m'Red'\u001b[0m\u001b[1;33m,\u001b[0m\u001b[0mfont\u001b[0m\u001b[1;33m=\u001b[0m\u001b[1;34m'Times New Roman'\u001b[0m\u001b[1;33m)\u001b[0m\u001b[1;33m\u001b[0m\u001b[0m\n\u001b[0;32m      6\u001b[0m \u001b[0max\u001b[0m \u001b[1;33m=\u001b[0m\u001b[0mplt\u001b[0m\u001b[1;33m.\u001b[0m\u001b[0msubplot\u001b[0m\u001b[1;33m(\u001b[0m\u001b[1;36m1\u001b[0m\u001b[1;33m,\u001b[0m\u001b[1;36m2\u001b[0m\u001b[1;33m,\u001b[0m\u001b[1;36m2\u001b[0m\u001b[1;33m)\u001b[0m\u001b[1;33m\u001b[0m\u001b[0m\n",
      "\u001b[1;31mAttributeError\u001b[0m: 'AxesSubplot' object has no attribute 'bar_label'"
     ]
    },
    {
     "data": {
      "image/png": "[encoded data removed]",
      "text/plain": [
       "<Figure size 1296x432 with 1 Axes>"
      ]
     },
     "metadata": {},
     "output_type": "display_data"
    }
   ],
   "source": [
    "ax = plt.figure(figsize=(18,6))\n",
    "ax = plt.subplot(1,2,1)\n",
    "ax = sns.countplot(x='Type', data=df)\n",
    "ax.bar_label(ax.containers[0])\n",
    "plt.title(\"Type\", fontsize=20,color='Red',font='Times New Roman')\n",
    "ax =plt.subplot(1,2,2)\n",
    "ax=df['Type'].value_counts().plot.pie(explode=[0.1, 0.1,0.1],autopct='%1.2f%%',shadow=True);\n",
    "ax.set_title(label = \"Type\", fontsize = 20,color='Red',font='Times New Roman');"
   ]
  },
  {
   "cell_type": "code",
   "execution_count": null,
   "metadata": {
    "execution": {
     "iopub.execute_input": "2022-12-06T20:06:42.912990Z",
     "iopub.status.busy": "2022-12-06T20:06:42.912533Z",
     "iopub.status.idle": "2022-12-06T20:06:43.226875Z",
     "shell.execute_reply": "2022-12-06T20:06:43.225576Z"
    },
    "papermill": {
     "duration": 0.33605,
     "end_time": "2022-12-06T20:06:43.229316",
     "exception": false,
     "start_time": "2022-12-06T20:06:42.893266",
     "status": "completed"
    },
    "tags": []
   },
   "outputs": [],
   "source": [
    "ax = plt.figure(figsize=(18,6))\n",
    "ax = plt.subplot(1,2,1)\n",
    "ax = sns.countplot(x='Target', data=df)\n",
    "ax.bar_label(ax.containers[0])\n",
    "plt.title(\"Target\", fontsize=20,color='Red',font='Times New Roman')\n",
    "ax =plt.subplot(1,2,2)\n",
    "ax=df['Target'].value_counts().plot.pie(explode=[0.1, 0.1],autopct='%1.2f%%',shadow=True);\n",
    "ax.set_title(label = \"Target\", fontsize = 20,color='Red',font='Times New Roman');"
   ]
  },
  {
   "cell_type": "code",
   "execution_count": null,
   "metadata": {
    "execution": {
     "iopub.execute_input": "2022-12-06T20:06:43.269368Z",
     "iopub.status.busy": "2022-12-06T20:06:43.268260Z",
     "iopub.status.idle": "2022-12-06T20:06:43.283449Z",
     "shell.execute_reply": "2022-12-06T20:06:43.282301Z"
    },
    "papermill": {
     "duration": 0.038274,
     "end_time": "2022-12-06T20:06:43.286005",
     "exception": false,
     "start_time": "2022-12-06T20:06:43.247731",
     "status": "completed"
    },
    "tags": []
   },
   "outputs": [],
   "source": [
    "df.head(2)"
   ]
  },
  {
   "cell_type": "code",
   "execution_count": null,
   "metadata": {
    "execution": {
     "iopub.execute_input": "2022-12-06T20:06:43.327683Z",
     "iopub.status.busy": "2022-12-06T20:06:43.326374Z",
     "iopub.status.idle": "2022-12-06T20:06:44.045922Z",
     "shell.execute_reply": "2022-12-06T20:06:44.044463Z"
    },
    "papermill": {
     "duration": 0.745316,
     "end_time": "2022-12-06T20:06:44.051109",
     "exception": false,
     "start_time": "2022-12-06T20:06:43.305793",
     "status": "completed"
    },
    "tags": []
   },
   "outputs": [],
   "source": [
    "plt.figure(figsize=(18,7))\n",
    "sns.barplot(df[\"Torque [Nm]\"],df[\"Rotational speed [rpm]\"], hue=df[\"Failure Type\"])"
   ]
  },
  {
   "cell_type": "code",
   "execution_count": null,
   "metadata": {
    "execution": {
     "iopub.execute_input": "2022-12-06T20:06:44.099327Z",
     "iopub.status.busy": "2022-12-06T20:06:44.098660Z",
     "iopub.status.idle": "2022-12-06T20:06:44.683628Z",
     "shell.execute_reply": "2022-12-06T20:06:44.682210Z"
    },
    "papermill": {
     "duration": 0.612675,
     "end_time": "2022-12-06T20:06:44.687145",
     "exception": false,
     "start_time": "2022-12-06T20:06:44.074470",
     "status": "completed"
    },
    "tags": []
   },
   "outputs": [],
   "source": [
    "plt.figure(figsize=(18,7))\n",
    "sns.barplot(df[\"Torque [Nm]\"],df[\"Rotational speed [rpm]\"], hue=df[\"Target\"])"
   ]
  },
  {
   "cell_type": "code",
   "execution_count": null,
   "metadata": {
    "execution": {
     "iopub.execute_input": "2022-12-06T20:06:44.743390Z",
     "iopub.status.busy": "2022-12-06T20:06:44.742962Z",
     "iopub.status.idle": "2022-12-06T20:06:45.365917Z",
     "shell.execute_reply": "2022-12-06T20:06:45.364554Z"
    },
    "papermill": {
     "duration": 0.653903,
     "end_time": "2022-12-06T20:06:45.368775",
     "exception": false,
     "start_time": "2022-12-06T20:06:44.714872",
     "status": "completed"
    },
    "tags": []
   },
   "outputs": [],
   "source": [
    "plt.figure(figsize=(18,7))\n",
    "sns.scatterplot(data=df, x=\"Torque [Nm]\", y=\"Rotational speed [rpm]\", hue=\"Type\",palette=\"tab10\");"
   ]
  },
  {
   "cell_type": "code",
   "execution_count": null,
   "metadata": {
    "execution": {
     "iopub.execute_input": "2022-12-06T20:06:45.430544Z",
     "iopub.status.busy": "2022-12-06T20:06:45.430106Z",
     "iopub.status.idle": "2022-12-06T20:06:45.445610Z",
     "shell.execute_reply": "2022-12-06T20:06:45.444332Z"
    },
    "papermill": {
     "duration": 0.048836,
     "end_time": "2022-12-06T20:06:45.447886",
     "exception": false,
     "start_time": "2022-12-06T20:06:45.399050",
     "status": "completed"
    },
    "tags": []
   },
   "outputs": [],
   "source": [
    "df.head(2)"
   ]
  },
  {
   "cell_type": "code",
   "execution_count": null,
   "metadata": {
    "execution": {
     "iopub.execute_input": "2022-12-06T20:06:46.397038Z",
     "iopub.status.busy": "2022-12-06T20:06:46.396622Z",
     "iopub.status.idle": "2022-12-06T20:06:47.100588Z",
     "shell.execute_reply": "2022-12-06T20:06:47.099252Z"
    },
    "papermill": {
     "duration": 0.739525,
     "end_time": "2022-12-06T20:06:47.103402",
     "exception": false,
     "start_time": "2022-12-06T20:06:46.363877",
     "status": "completed"
    },
    "tags": []
   },
   "outputs": [],
   "source": [
    "def plot_hist(feature):\n",
    "    fig, ax = plt.subplots(2, 1, figsize=(18, 8))\n",
    "    \n",
    "    sns.histplot(data = df[feature], kde = True, ax = ax[0],color='green')\n",
    "\n",
    "    ax[0].axvline(x = df[feature].mean(), color = 'red', linestyle = '--', linewidth = 2, label = 'Mean: {}'.format(round(df[feature].mean(), 3)))\n",
    "    ax[0].axvline(x = df[feature].median(), color = 'orange', linewidth = 2, label = 'Median: {}'.format(round(df[feature].median(), 3)))\n",
    "    ax[0].axvline(x = statistics.mode(df[feature]), color = 'brown', linewidth = 2, label = 'Mode: {}'.format(statistics.mode(df[feature])))\n",
    "    ax[0].legend()\n",
    "    \n",
    "    sns.boxplot(x = df[feature], ax = ax[1],color='green')\n",
    "    \n",
    "    plt.show()\n",
    "\n",
    "plot_hist('Rotational speed [rpm]')"
   ]
  },
  {
   "cell_type": "code",
   "execution_count": null,
   "metadata": {
    "execution": {
     "iopub.execute_input": "2022-12-06T20:06:47.171860Z",
     "iopub.status.busy": "2022-12-06T20:06:47.170443Z",
     "iopub.status.idle": "2022-12-06T20:06:47.176312Z",
     "shell.execute_reply": "2022-12-06T20:06:47.175339Z"
    },
    "papermill": {
     "duration": 0.04228,
     "end_time": "2022-12-06T20:06:47.178691",
     "exception": false,
     "start_time": "2022-12-06T20:06:47.136411",
     "status": "completed"
    },
    "tags": []
   },
   "outputs": [],
   "source": [
    "# sns.pairplot(df,hue = \"Failure Type\");"
   ]
  },
  {
   "cell_type": "code",
   "execution_count": null,
   "metadata": {
    "execution": {
     "iopub.execute_input": "2022-12-06T20:06:47.245703Z",
     "iopub.status.busy": "2022-12-06T20:06:47.244725Z",
     "iopub.status.idle": "2022-12-06T20:06:48.069752Z",
     "shell.execute_reply": "2022-12-06T20:06:48.068286Z"
    },
    "papermill": {
     "duration": 0.861676,
     "end_time": "2022-12-06T20:06:48.072617",
     "exception": false,
     "start_time": "2022-12-06T20:06:47.210941",
     "status": "completed"
    },
    "tags": []
   },
   "outputs": [],
   "source": [
    "sns.displot(data=df, x=\"Torque [Nm]\", col=\"Type\", kind=\"kde\");"
   ]
  },
  {
   "cell_type": "code",
   "execution_count": null,
   "metadata": {
    "execution": {
     "iopub.execute_input": "2022-12-06T20:06:48.142054Z",
     "iopub.status.busy": "2022-12-06T20:06:48.141438Z",
     "iopub.status.idle": "2022-12-06T20:06:48.998549Z",
     "shell.execute_reply": "2022-12-06T20:06:48.996916Z"
    },
    "papermill": {
     "duration": 0.894846,
     "end_time": "2022-12-06T20:06:49.001458",
     "exception": false,
     "start_time": "2022-12-06T20:06:48.106612",
     "status": "completed"
    },
    "tags": []
   },
   "outputs": [],
   "source": [
    "sns.displot(data=df, x=\"Rotational speed [rpm]\", col=\"Type\", kind=\"kde\");"
   ]
  },
  {
   "cell_type": "code",
   "execution_count": null,
   "metadata": {
    "execution": {
     "iopub.execute_input": "2022-12-06T20:06:49.074004Z",
     "iopub.status.busy": "2022-12-06T20:06:49.073179Z",
     "iopub.status.idle": "2022-12-06T20:06:50.954934Z",
     "shell.execute_reply": "2022-12-06T20:06:50.953739Z"
    },
    "papermill": {
     "duration": 1.921424,
     "end_time": "2022-12-06T20:06:50.958233",
     "exception": false,
     "start_time": "2022-12-06T20:06:49.036809",
     "status": "completed"
    },
    "tags": []
   },
   "outputs": [],
   "source": [
    "sns.relplot(data=df, x=\"Torque [Nm]\", y=\"Rotational speed [rpm]\", hue=\"Failure Type\",col=\"Type\",palette='tab10');"
   ]
  },
  {
   "cell_type": "code",
   "execution_count": null,
   "metadata": {},
   "outputs": [],
   "source": [
    "#!pip install --user category_encoders"
   ]
  },
  {
   "cell_type": "code",
   "execution_count": null,
   "metadata": {
    "execution": {
     "iopub.execute_input": "2022-12-06T20:06:51.119850Z",
     "iopub.status.busy": "2022-12-06T20:06:51.118924Z",
     "iopub.status.idle": "2022-12-06T20:06:51.547109Z",
     "shell.execute_reply": "2022-12-06T20:06:51.545677Z"
    },
    "papermill": {
     "duration": 0.469763,
     "end_time": "2022-12-06T20:06:51.549862",
     "exception": false,
     "start_time": "2022-12-06T20:06:51.080099",
     "status": "completed"
    },
    "tags": []
   },
   "outputs": [],
   "source": [
    "import category_encoders as ce\n",
    "encoder = ce.OrdinalEncoder(cols=['Type','Failure Type'])\n",
    "df = encoder.fit_transform(df)\n",
    "df.head(2)"
   ]
  },
  {
   "cell_type": "code",
   "execution_count": null,
   "metadata": {},
   "outputs": [],
   "source": [
    "df['Failure Type'].unique()"
   ]
  },
  {
   "cell_type": "code",
   "execution_count": null,
   "metadata": {
    "execution": {
     "iopub.execute_input": "2022-12-06T20:06:51.636453Z",
     "iopub.status.busy": "2022-12-06T20:06:51.635067Z",
     "iopub.status.idle": "2022-12-06T20:06:51.683043Z",
     "shell.execute_reply": "2022-12-06T20:06:51.681225Z"
    },
    "papermill": {
     "duration": 0.092369,
     "end_time": "2022-12-06T20:06:51.686665",
     "exception": false,
     "start_time": "2022-12-06T20:06:51.594296",
     "status": "completed"
    },
    "tags": []
   },
   "outputs": [],
   "source": [
    "from sklearn.preprocessing import LabelEncoder\n",
    "scaler = LabelEncoder()\n",
    "df['Failure Type'] = scaler.fit_transform(df['Failure Type'])"
   ]
  },
  {
   "cell_type": "code",
   "execution_count": null,
   "metadata": {},
   "outputs": [],
   "source": [
    "df.head()"
   ]
  },
  {
   "cell_type": "code",
   "execution_count": null,
   "metadata": {
    "execution": {
     "iopub.execute_input": "2022-12-06T20:06:51.795182Z",
     "iopub.status.busy": "2022-12-06T20:06:51.793742Z",
     "iopub.status.idle": "2022-12-06T20:06:51.803952Z",
     "shell.execute_reply": "2022-12-06T20:06:51.802589Z"
    },
    "papermill": {
     "duration": 0.065361,
     "end_time": "2022-12-06T20:06:51.807187",
     "exception": false,
     "start_time": "2022-12-06T20:06:51.741826",
     "status": "completed"
    },
    "tags": []
   },
   "outputs": [],
   "source": [
    "X = df.drop(columns=\"Failure Type\" , axis=1)\n",
    "y = df[\"Failure Type\"]"
   ]
  },
  {
   "cell_type": "code",
   "execution_count": null,
   "metadata": {
    "execution": {
     "iopub.execute_input": "2022-12-06T20:06:51.889457Z",
     "iopub.status.busy": "2022-12-06T20:06:51.889030Z",
     "iopub.status.idle": "2022-12-06T20:06:51.955012Z",
     "shell.execute_reply": "2022-12-06T20:06:51.953459Z"
    },
    "papermill": {
     "duration": 0.110599,
     "end_time": "2022-12-06T20:06:51.958365",
     "exception": false,
     "start_time": "2022-12-06T20:06:51.847766",
     "status": "completed"
    },
    "tags": []
   },
   "outputs": [],
   "source": [
    "from sklearn.model_selection import train_test_split\n",
    "X_train,X_test,y_train,y_test = train_test_split(X,y,test_size=0.2,random_state=21)"
   ]
  },
  {
   "cell_type": "code",
   "execution_count": null,
   "metadata": {
    "execution": {
     "iopub.execute_input": "2022-12-06T20:06:52.041339Z",
     "iopub.status.busy": "2022-12-06T20:06:52.040357Z",
     "iopub.status.idle": "2022-12-06T20:06:52.357785Z",
     "shell.execute_reply": "2022-12-06T20:06:52.356422Z"
    },
    "papermill": {
     "duration": 0.361595,
     "end_time": "2022-12-06T20:06:52.360600",
     "exception": false,
     "start_time": "2022-12-06T20:06:51.999005",
     "status": "completed"
    },
    "tags": []
   },
   "outputs": [],
   "source": [
    "plt.figure(figsize=(18,5))\n",
    "ax = sns.countplot(x = y_train, palette = 'tab10')\n",
    "t= len(y_train)\n",
    "for p in ax.patches:\n",
    "    percentage = f'{100 * p.get_height() / t:.1f}%\\n'\n",
    "    x = p.get_x() + p.get_width() / 2\n",
    "    y = p.get_height()\n",
    "    ax.annotate(percentage, (x, y), ha='center', va='center')\n",
    "plt.show()"
   ]
  },
  {
   "cell_type": "code",
   "execution_count": null,
   "metadata": {
    "execution": {
     "iopub.execute_input": "2022-12-06T20:06:52.448253Z",
     "iopub.status.busy": "2022-12-06T20:06:52.447097Z",
     "iopub.status.idle": "2022-12-06T20:06:52.767965Z",
     "shell.execute_reply": "2022-12-06T20:06:52.766422Z"
    },
    "papermill": {
     "duration": 0.368277,
     "end_time": "2022-12-06T20:06:52.771001",
     "exception": false,
     "start_time": "2022-12-06T20:06:52.402724",
     "status": "completed"
    },
    "tags": []
   },
   "outputs": [],
   "source": [
    "plt.figure(figsize=(18,5))\n",
    "ax = sns.countplot(x = y_test, palette = 'tab10')\n",
    "t= len(y_test)\n",
    "for p in ax.patches:\n",
    "    percentage = f'{100 * p.get_height() / t:.1f}%\\n'\n",
    "    x = p.get_x() + p.get_width() / 2\n",
    "    y = p.get_height()\n",
    "    ax.annotate(percentage, (x, y), ha='center', va='center')\n",
    "plt.show()"
   ]
  },
  {
   "cell_type": "code",
   "execution_count": null,
   "metadata": {
    "execution": {
     "iopub.execute_input": "2022-12-06T20:06:52.936387Z",
     "iopub.status.busy": "2022-12-06T20:06:52.935611Z",
     "iopub.status.idle": "2022-12-06T20:06:54.607023Z",
     "shell.execute_reply": "2022-12-06T20:06:54.605679Z"
    },
    "papermill": {
     "duration": 1.716822,
     "end_time": "2022-12-06T20:06:54.609780",
     "exception": false,
     "start_time": "2022-12-06T20:06:52.892958",
     "status": "completed"
    },
    "tags": []
   },
   "outputs": [],
   "source": [
    "from sklearn.metrics import accuracy_score,classification_report,confusion_matrix,plot_confusion_matrix\n",
    "\n",
    "# Logistic Regression\n",
    "from sklearn.linear_model import LogisticRegression\n",
    "logreg = LogisticRegression()\n",
    "logreg.fit(X_train, y_train)\n",
    "y_pred_lr = logreg.predict(X_test)\n",
    "\n",
    "log_train = round(logreg.score(X_train, y_train) * 100, 2)\n",
    "log_accuracy = round(accuracy_score(y_pred_lr, y_test) * 100, 2)\n",
    "\n",
    "\n",
    "print(\"Training Accuracy    :\",log_train ,\"%\")\n",
    "print(\"Model Accuracy Score :\",log_accuracy ,\"%\")\n",
    "print(\"\\033[1m--------------------------------------------------------\\033[0m\")\n",
    "print(\"Classification_Report: \\n\",classification_report(y_test,y_pred_lr))\n",
    "print(\"\\033[1m--------------------------------------------------------\\033[0m\")\n",
    "plot_confusion_matrix(logreg, X_test, y_test);\n",
    "plt.title('Confusion Matrix');"
   ]
  },
  {
   "cell_type": "code",
   "execution_count": null,
   "metadata": {
    "execution": {
     "iopub.execute_input": "2022-12-06T20:06:54.780920Z",
     "iopub.status.busy": "2022-12-06T20:06:54.780233Z",
     "iopub.status.idle": "2022-12-06T20:06:55.345304Z",
     "shell.execute_reply": "2022-12-06T20:06:55.343862Z"
    },
    "papermill": {
     "duration": 0.61301,
     "end_time": "2022-12-06T20:06:55.348170",
     "exception": false,
     "start_time": "2022-12-06T20:06:54.735160",
     "status": "completed"
    },
    "tags": []
   },
   "outputs": [],
   "source": [
    "# Decision Tree\n",
    "from sklearn.tree import DecisionTreeClassifier\n",
    "decision = DecisionTreeClassifier()\n",
    "decision.fit(X_train, y_train)\n",
    "y_pred_dec = decision.predict(X_test)\n",
    "\n",
    "decision_train = round(decision.score(X_train, y_train) * 100, 2)\n",
    "decision_accuracy = round(accuracy_score(y_pred_dec, y_test) * 100, 2)\n",
    "\n",
    "print(\"Training Accuracy    :\",decision_train ,\"%\")\n",
    "print(\"Model Accuracy Score :\",decision_accuracy ,\"%\")\n",
    "print(\"\\033[1m--------------------------------------------------------\\033[0m\")\n",
    "print(\"Classification_Report: \\n\",classification_report(y_test,y_pred_dec))\n",
    "print(\"\\033[1m--------------------------------------------------------\\033[0m\")\n",
    "plot_confusion_matrix(decision, X_test, y_test);\n",
    "plt.title('Confusion Matrix');\n"
   ]
  },
  {
   "cell_type": "code",
   "execution_count": null,
   "metadata": {
    "execution": {
     "iopub.execute_input": "2022-12-06T20:06:55.519719Z",
     "iopub.status.busy": "2022-12-06T20:06:55.519198Z",
     "iopub.status.idle": "2022-12-06T20:06:57.100553Z",
     "shell.execute_reply": "2022-12-06T20:06:57.099527Z"
    },
    "papermill": {
     "duration": 1.626341,
     "end_time": "2022-12-06T20:06:57.103244",
     "exception": false,
     "start_time": "2022-12-06T20:06:55.476903",
     "status": "completed"
    },
    "tags": []
   },
   "outputs": [],
   "source": [
    "# Random Forest\n",
    "from sklearn.ensemble import RandomForestClassifier\n",
    "random_forest = RandomForestClassifier(n_estimators=100)\n",
    "random_forest.fit(X_train, y_train)\n",
    "y_pred_rf = random_forest.predict(X_test)\n",
    "random_forest.score(X_train, y_train)\n",
    "\n",
    "random_forest_train = round(random_forest.score(X_train, y_train) * 100, 2)\n",
    "random_forest_accuracy = round(accuracy_score(y_pred_rf, y_test) * 100, 2)\n",
    "\n",
    "print(\"Training Accuracy    :\",random_forest_train ,\"%\")\n",
    "print(\"Model Accuracy Score :\",random_forest_accuracy ,\"%\")\n",
    "print(\"\\033[1m--------------------------------------------------------\\033[0m\")\n",
    "print(\"Classification_Report: \\n\",classification_report(y_test,y_pred_rf))\n",
    "print(\"\\033[1m--------------------------------------------------------\\033[0m\")\n",
    "plot_confusion_matrix(random_forest, X_test, y_test);\n",
    "plt.title('Confusion Matrix');"
   ]
  },
  {
   "cell_type": "code",
   "execution_count": null,
   "metadata": {
    "execution": {
     "iopub.execute_input": "2022-12-06T20:06:57.276437Z",
     "iopub.status.busy": "2022-12-06T20:06:57.275961Z",
     "iopub.status.idle": "2022-12-06T20:06:58.494142Z",
     "shell.execute_reply": "2022-12-06T20:06:58.492606Z"
    },
    "papermill": {
     "duration": 1.266309,
     "end_time": "2022-12-06T20:06:58.497007",
     "exception": false,
     "start_time": "2022-12-06T20:06:57.230698",
     "status": "completed"
    },
    "tags": []
   },
   "outputs": [],
   "source": [
    "# Support Vector Machines\n",
    "from sklearn.svm import SVC\n",
    "svc = SVC()\n",
    "svc.fit(X_train, y_train)\n",
    "y_pred_svc = svc.predict(X_test)\n",
    "\n",
    "svc_train = round(svc.score(X_train, y_train) * 100, 2)\n",
    "svc_accuracy = round(accuracy_score(y_pred_svc, y_test) * 100, 2)\n",
    "\n",
    "print(\"Training Accuracy    :\",svc_train ,\"%\")\n",
    "print(\"Model Accuracy Score :\",svc_accuracy ,\"%\")\n",
    "print(\"\\033[1m--------------------------------------------------------\\033[0m\")\n",
    "print(\"Classification_Report: \\n\",classification_report(y_test,y_pred_svc))\n",
    "print(\"\\033[1m--------------------------------------------------------\\033[0m\")\n",
    "plot_confusion_matrix(svc, X_test, y_test);\n",
    "plt.title('Confusion Matrix');"
   ]
  },
  {
   "cell_type": "code",
   "execution_count": null,
   "metadata": {
    "execution": {
     "iopub.execute_input": "2022-12-06T20:06:58.664330Z",
     "iopub.status.busy": "2022-12-06T20:06:58.663584Z",
     "iopub.status.idle": "2022-12-06T20:06:58.670007Z",
     "shell.execute_reply": "2022-12-06T20:06:58.668839Z"
    },
    "papermill": {
     "duration": 0.052929,
     "end_time": "2022-12-06T20:06:58.672834",
     "exception": false,
     "start_time": "2022-12-06T20:06:58.619905",
     "status": "completed"
    },
    "tags": []
   },
   "outputs": [],
   "source": [
    "models = pd.DataFrame({\n",
    "    'Model': [\n",
    "        'Support Vector Machines', 'Logistic Regression', 'Random Forest',\n",
    "        'Decision Tree'\n",
    "    ],\n",
    "    \n",
    "    'Training Accuracy':\n",
    "    [log_train, svc_train, decision_train, random_forest_train],\n",
    "    \n",
    "    'Model Accuracy Score': [\n",
    "        log_accuracy, svc_accuracy, decision_accuracy, random_forest_accuracy\n",
    "    ]\n",
    "})"
   ]
  },
  {
   "cell_type": "code",
   "execution_count": null,
   "metadata": {
    "execution": {
     "iopub.execute_input": "2022-12-06T20:06:58.760637Z",
     "iopub.status.busy": "2022-12-06T20:06:58.759826Z",
     "iopub.status.idle": "2022-12-06T20:06:58.780660Z",
     "shell.execute_reply": "2022-12-06T20:06:58.778923Z"
    },
    "papermill": {
     "duration": 0.067782,
     "end_time": "2022-12-06T20:06:58.783443",
     "exception": false,
     "start_time": "2022-12-06T20:06:58.715661",
     "status": "completed"
    },
    "tags": []
   },
   "outputs": [],
   "source": [
    "pd.set_option('precision',2)\n",
    "models.sort_values(by='Model Accuracy Score', ascending=False).style.background_gradient(\n",
    "        cmap='coolwarm').hide_index().set_properties(**{\n",
    "            'font-family': 'Lucida Calligraphy',\n",
    "            'color': 'LigntGreen',\n",
    "            'font-size': '15px'\n",
    "        })"
   ]
  },
  {
   "cell_type": "code",
   "execution_count": null,
   "metadata": {
    "execution": {
     "iopub.execute_input": "2022-12-06T20:06:58.955143Z",
     "iopub.status.busy": "2022-12-06T20:06:58.954678Z",
     "iopub.status.idle": "2022-12-06T20:06:59.004124Z",
     "shell.execute_reply": "2022-12-06T20:06:59.002606Z"
    },
    "papermill": {
     "duration": 0.097973,
     "end_time": "2022-12-06T20:06:59.008166",
     "exception": false,
     "start_time": "2022-12-06T20:06:58.910193",
     "status": "completed"
    },
    "tags": []
   },
   "outputs": [],
   "source": [
    "prediction1 = random_forest.predict(X_test)\n",
    "print(prediction1)"
   ]
  },
  {
   "cell_type": "code",
   "execution_count": null,
   "metadata": {
    "execution": {
     "iopub.execute_input": "2022-12-06T20:06:59.095581Z",
     "iopub.status.busy": "2022-12-06T20:06:59.094090Z",
     "iopub.status.idle": "2022-12-06T20:06:59.114124Z",
     "shell.execute_reply": "2022-12-06T20:06:59.112693Z"
    },
    "papermill": {
     "duration": 0.066582,
     "end_time": "2022-12-06T20:06:59.117076",
     "exception": false,
     "start_time": "2022-12-06T20:06:59.050494",
     "status": "completed"
    },
    "tags": []
   },
   "outputs": [],
   "source": [
    "cross_checking = pd.DataFrame({'Actual' : y_test , 'Predicted' : prediction1})\n",
    "cross_checking.sample(5).style.background_gradient(\n",
    "        cmap='coolwarm').set_properties(**{\n",
    "            'font-family': 'Lucida Calligraphy',\n",
    "            'color': 'LigntGreen',\n",
    "            'font-size': '15px'\n",
    "        })"
   ]
  },
  {
   "cell_type": "code",
   "execution_count": null,
   "metadata": {
    "papermill": {
     "duration": 0.042206,
     "end_time": "2022-12-06T20:06:59.201399",
     "exception": false,
     "start_time": "2022-12-06T20:06:59.159193",
     "status": "completed"
    },
    "tags": []
   },
   "outputs": [],
   "source": []
  }
 ],
 "metadata": {
  "kernelspec": {
   "display_name": "Python 3",
   "language": "python",
   "name": "python3"
  },
  "language_info": {
   "codemirror_mode": {
    "name": "ipython",
    "version": 3
   },
   "file_extension": ".py",
   "mimetype": "text/x-python",
   "name": "python",
   "nbconvert_exporter": "python",
   "pygments_lexer": "ipython3",
   "version": "3.6.5"
  },
  "papermill": {
   "default_parameters": {},
   "duration": 31.685165,
   "end_time": "2022-12-06T20:07:00.168039",
   "environment_variables": {},
   "exception": null,
   "input_path": "__notebook__.ipynb",
   "output_path": "__notebook__.ipynb",
   "parameters": {},
   "start_time": "2022-12-06T20:06:28.482874",
   "version": "2.3.4"
  }
 },
 "nbformat": 4,
 "nbformat_minor": 5
}
